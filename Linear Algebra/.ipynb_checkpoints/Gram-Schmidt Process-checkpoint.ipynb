{
 "cells": [
  {
   "cell_type": "markdown",
   "metadata": {},
   "source": [
    "The Gram-Schmidt process is a method for constructing an orthonormal basis of a space that a set of given vectors span. It can also be used to determine the dimension of that space, which may be different than the dimension of the vectors themselves or the number of vectors provided to span the space."
   ]
  },
  {
   "cell_type": "code",
   "execution_count": 1,
   "metadata": {},
   "outputs": [],
   "source": [
    "import numpy as np\n",
    "import numpy.linalg as la\n",
    "\n",
    "verySmallNumber = 1e-14 # That's 1×10⁻¹⁴ = 0.00000000000001\n",
    "\n",
    "def gsBasis4(A) :\n",
    "    B = np.array(A, dtype=np.float_)\n",
    "    B[:, 0] = B[:, 0] / la.norm(B[:, 0])\n",
    "\n",
    "    B[:, 1] = B[:, 1] - B[:, 1] @ B[:, 0] * B[:, 0]\n",
    "    if la.norm(B[:, 1]) > verySmallNumber :\n",
    "        B[:, 1] = B[:, 1] / la.norm(B[:, 1])\n",
    "    else :\n",
    "        B[:, 1] = np.zeros_like(B[:, 1])\n",
    "\n",
    "    B[:, 2] = B[:,2] - B[:,2] @ B[:,0] * B[:,0]\n",
    "    B[:, 2] = B[:,2] - B[:,2] @ B[:,1] * B[:,1]\n",
    "    if la.norm(B[:,2]) > verySmallNumber:\n",
    "        B[:,2] = B[:,2]/la.norm(B[:,2])\n",
    "    else:\n",
    "        B[:,2] = np.zeros_like(B[:,2])     \n",
    "\n",
    "    B[:, 3] = B[:,3] - B[:,3] @ B[:,0] * B[:,0]\n",
    "    B[:, 3] = B[:,3] - B[:,3] @ B[:,1] * B[:,1]\n",
    "    B[:, 3] = B[:,3] - B[:,3] @ B[:,2] * B[:,2]    \n",
    "    if la.norm(B[:,3]) > verySmallNumber:\n",
    "        B[:,3] = B[:,3]/la.norm(B[:,3])\n",
    "    else:\n",
    "        B[:,3] = np.zeros_like(B[:,3])  \n",
    "\n",
    "    return B\n",
    "\n",
    "# generalize this function\n",
    "\n",
    "def gsBasis(A) :\n",
    "    B = np.array(A, dtype=np.float_)\n",
    "    for i in range(B.shape[1]) :\n",
    "        for j in range(i) :\n",
    "            \n",
    "            if j<i and i!=j:\n",
    "                B[:, i] = B[:,i] - B[:,i]@B[:,j]*B[:,j] \n",
    "        if la.norm(B[:,i])>verySmallNumber:\n",
    "            B[:,i] = B[:,i]/la.norm(B[:,i])\n",
    "        else:\n",
    "            B[:,i] = np.zeros_like(B[:,i]) \n",
    "\n",
    "    return B\n",
    "\n",
    "def dimensions(A) :\n",
    "    return np.sum(la.norm(gsBasis(A), axis=0))"
   ]
  },
  {
   "cell_type": "code",
   "execution_count": 2,
   "metadata": {},
   "outputs": [
    {
     "data": {
      "text/plain": [
       "array([[ 0.40824829, -0.1814885 ,  0.04982278,  0.89325973],\n",
       "       [ 0.        ,  0.1088931 ,  0.99349591, -0.03328918],\n",
       "       [ 0.81649658,  0.50816781, -0.06462163, -0.26631346],\n",
       "       [ 0.40824829, -0.83484711,  0.07942048, -0.36063281]])"
      ]
     },
     "execution_count": 2,
     "metadata": {},
     "output_type": "execute_result"
    }
   ],
   "source": [
    "V = np.array([[1,0,2,6],\n",
    "              [0,1,8,2],\n",
    "              [2,8,3,1],\n",
    "              [1,-6,2,3]], dtype=np.float_)\n",
    "gsBasis4(V)"
   ]
  },
  {
   "cell_type": "code",
   "execution_count": 3,
   "metadata": {},
   "outputs": [
    {
     "data": {
      "text/plain": [
       "array([[ 0.40824829, -0.1814885 ,  0.04982278,  0.89325973],\n",
       "       [ 0.        ,  0.1088931 ,  0.99349591, -0.03328918],\n",
       "       [ 0.81649658,  0.50816781, -0.06462163, -0.26631346],\n",
       "       [ 0.40824829, -0.83484711,  0.07942048, -0.36063281]])"
      ]
     },
     "execution_count": 3,
     "metadata": {},
     "output_type": "execute_result"
    }
   ],
   "source": [
    "# Once you've done Gram-Schmidt once,\n",
    "# doing it again should give you the same result. Test this:\n",
    "U = gsBasis4(V)\n",
    "gsBasis4(U)"
   ]
  },
  {
   "cell_type": "code",
   "execution_count": 4,
   "metadata": {},
   "outputs": [
    {
     "data": {
      "text/plain": [
       "array([[ 0.40824829, -0.1814885 ,  0.04982278,  0.89325973],\n",
       "       [ 0.        ,  0.1088931 ,  0.99349591, -0.03328918],\n",
       "       [ 0.81649658,  0.50816781, -0.06462163, -0.26631346],\n",
       "       [ 0.40824829, -0.83484711,  0.07942048, -0.36063281]])"
      ]
     },
     "execution_count": 4,
     "metadata": {},
     "output_type": "execute_result"
    }
   ],
   "source": [
    "# Try the general function too.\n",
    "gsBasis(V)"
   ]
  },
  {
   "cell_type": "code",
   "execution_count": null,
   "metadata": {},
   "outputs": [],
   "source": []
  }
 ],
 "metadata": {
  "kernelspec": {
   "display_name": "Python 3",
   "language": "python",
   "name": "python3"
  },
  "language_info": {
   "codemirror_mode": {
    "name": "ipython",
    "version": 3
   },
   "file_extension": ".py",
   "mimetype": "text/x-python",
   "name": "python",
   "nbconvert_exporter": "python",
   "pygments_lexer": "ipython3",
   "version": "3.7.7"
  }
 },
 "nbformat": 4,
 "nbformat_minor": 4
}
