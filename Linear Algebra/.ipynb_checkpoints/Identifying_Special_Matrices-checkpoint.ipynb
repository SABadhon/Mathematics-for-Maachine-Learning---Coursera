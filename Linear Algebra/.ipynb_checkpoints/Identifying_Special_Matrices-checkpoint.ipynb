{
 "cells": [
  {
   "cell_type": "markdown",
   "metadata": {},
   "source": [
    "# Identifying special matrices\n",
    "## Instructions\n",
    "In this assignment, you shall write a function that will test if a 4×4 matrix is singular, i.e. to determine if an inverse exists, before calculating it.\n",
    "\n",
    "You shall use the method of converting a matrix to echelon form, and testing if this fails by leaving zeros that can’t be removed on the leading diagonal.\n",
    "\n",
    "Don't worry if you've not coded before, a framework for the function has already been written.\n",
    "Look through the code, and you'll be instructed where to make changes.\n",
    "We'll do the first two rows, and you can use this as a guide to do the last two.\n",
    "\n",
    "### Matrices in Python\n",
    "In the *numpy* package in Python, matrices are indexed using zero for the top-most column and left-most row.\n",
    "I.e., the matrix structure looks like this:\n",
    "```python\n",
    "A[0, 0]  A[0, 1]  A[0, 2]  A[0, 3]\n",
    "A[1, 0]  A[1, 1]  A[1, 2]  A[1, 3]\n",
    "A[2, 0]  A[2, 1]  A[2, 2]  A[2, 3]\n",
    "A[3, 0]  A[3, 1]  A[3, 2]  A[3, 3]\n",
    "```\n",
    "You can access the value of each element individually using,\n",
    "```python\n",
    "A[n, m]\n",
    "```\n",
    "which will give the n'th row and m'th column (starting with zero).\n",
    "You can also access a whole row at a time using,\n",
    "```python\n",
    "A[n]\n",
    "```\n",
    "Which you will see will be useful when calculating linear combinations of rows.\n"
   ]
  },
  {
   "cell_type": "code",
   "execution_count": 3,
   "metadata": {},
   "outputs": [],
   "source": [
    "import numpy as np\n",
    "\n",
    "# define a function to check for singularity\n",
    "def isSingular(A):\n",
    "    B = np.array(A, dtype=np.float_) # copy A into B as we have to change the value\n",
    "    try:\n",
    "        fixRowZero(B)\n",
    "        fixRowOne(B)\n",
    "        fixRowTwo(B)\n",
    "        fixRowThree(B)\n",
    "    except MatrixIsSingular:\n",
    "        return True\n",
    "    return False\n",
    "\n",
    "# This next line defines our error flag. For when things go wrong if the matrix is singular.\n",
    "# There is no need to edit this line.\n",
    "class MatrixIsSingular(Exception): pass\n",
    "\n",
    "# For Row Zero, all we require is the first element is equal to 1.\n",
    "# We'll divide the row by the value of A[0, 0].\n",
    "# This will get us in trouble though if A[0, 0] equals 0, so first we'll test for that,\n",
    "# and if this is true, we'll add one of the lower rows to the first one before the division.\n",
    "# We'll repeat the test going down each lower row until we can do the division.\n",
    "# There is no need to edit this function.\n",
    "def fixRowZero(A) :\n",
    "    if A[0,0] == 0 :\n",
    "        A[0] = A[0] + A[1]\n",
    "    if A[0,0] == 0 :\n",
    "        A[0] = A[0] + A[2]\n",
    "    if A[0,0] == 0 :\n",
    "        A[0] = A[0] + A[3]\n",
    "    if A[0,0] == 0 :\n",
    "        raise MatrixIsSingular()\n",
    "    A[0] = A[0] / A[0,0]\n",
    "    return A\n",
    "            \n",
    "def fixRowOne(A):\n",
    "    A[1] = A[1] - A[1,0] * A[0]\n",
    "    if A[1,1] == 0 :\n",
    "        A[1] = A[1] + A[2]\n",
    "        A[1] = A[1] - A[1,0] * A[0]\n",
    "    if A[1,1] == 0 :\n",
    "        A[1] = A[1] + A[3]\n",
    "        A[1] = A[1] - A[1,0] * A[0]\n",
    "    if A[1,1] == 0 :\n",
    "        raise MatrixIsSingular()\n",
    "    A[1] = A[1] / A[1,1]\n",
    "    return A\n",
    "\n",
    "def fixRowTwo(A):\n",
    "    A[2] = A[2] - A[2,0] * A[0] \n",
    "    A[2] = A[2] - A[2,1] * A[1]\n",
    "    if A[2,2] == 0 :\n",
    "        A[2] = A[2] + A[3]\n",
    "        A[2] = A[2] - A[2,0] * A[0] \n",
    "        A[2] = A[2] - A[2,1] * A[1]       \n",
    "    if A[2,2] == 0 :\n",
    "        raise MatrixIsSingular()\n",
    "    A[2] = A[2]/A[2,2]\n",
    "    return A\n",
    "\n",
    "def fixRowThree(A):\n",
    "    A[3] = A[3] - A[3,0] * A[0]\n",
    "    A[3] = A[3] - A[3,1] * A[1]\n",
    "    A[3] = A[3] - A[3,2] * A[2]\n",
    "    if A[3,3] == 0:\n",
    "        raise MatrixIsSingular()\n",
    "    A[3] = A[3]/A[3,3]\n",
    "    return A"
   ]
  },
  {
   "cell_type": "code",
   "execution_count": 4,
   "metadata": {
    "collapsed": true
   },
   "outputs": [
    {
     "data": {
      "text/plain": [
       "True"
      ]
     },
     "execution_count": 4,
     "metadata": {},
     "output_type": "execute_result"
    }
   ],
   "source": [
    "A = np.array([\n",
    "        [2, 0, 0, 0],\n",
    "        [0, 3, 0, 0],\n",
    "        [0, 0, 4, 4],\n",
    "        [0, 0, 5, 5]\n",
    "    ], dtype=np.float_)\n",
    "isSingular(A)"
   ]
  },
  {
   "cell_type": "code",
   "execution_count": 5,
   "metadata": {
    "collapsed": true
   },
   "outputs": [
    {
     "data": {
      "text/plain": [
       "array([[ 1. ,  7.5, -2.5,  3.5],\n",
       "       [ 2. ,  8. ,  0. ,  4. ],\n",
       "       [ 3. , 12. ,  0. ,  5. ],\n",
       "       [ 1. ,  3. ,  1. ,  3. ]])"
      ]
     },
     "execution_count": 5,
     "metadata": {},
     "output_type": "execute_result"
    }
   ],
   "source": [
    "A = np.array([\n",
    "        [0, 7, -5, 3],\n",
    "        [2, 8, 0, 4],\n",
    "        [3, 12, 0, 5],\n",
    "        [1, 3, 1, 3]\n",
    "    ], dtype=np.float_)\n",
    "fixRowZero(A)"
   ]
  },
  {
   "cell_type": "code",
   "execution_count": 6,
   "metadata": {
    "collapsed": true
   },
   "outputs": [
    {
     "data": {
      "text/plain": [
       "array([[ 1.        ,  7.5       , -2.5       ,  3.5       ],\n",
       "       [-0.        ,  1.        , -0.71428571,  0.42857143],\n",
       "       [ 3.        , 12.        ,  0.        ,  5.        ],\n",
       "       [ 1.        ,  3.        ,  1.        ,  3.        ]])"
      ]
     },
     "execution_count": 6,
     "metadata": {},
     "output_type": "execute_result"
    }
   ],
   "source": [
    "fixRowOne(A)"
   ]
  },
  {
   "cell_type": "code",
   "execution_count": 7,
   "metadata": {
    "collapsed": true
   },
   "outputs": [
    {
     "data": {
      "text/plain": [
       "array([[ 1.        ,  7.5       , -2.5       ,  3.5       ],\n",
       "       [-0.        ,  1.        , -0.71428571,  0.42857143],\n",
       "       [ 0.35      ,  0.        ,  1.        , -0.01666667],\n",
       "       [ 1.        ,  3.        ,  1.        ,  3.        ]])"
      ]
     },
     "execution_count": 7,
     "metadata": {},
     "output_type": "execute_result"
    }
   ],
   "source": [
    "fixRowTwo(A)"
   ]
  },
  {
   "cell_type": "code",
   "execution_count": 8,
   "metadata": {
    "collapsed": true
   },
   "outputs": [
    {
     "data": {
      "text/plain": [
       "array([[ 1.        ,  7.5       , -2.5       ,  3.5       ],\n",
       "       [-0.        ,  1.        , -0.71428571,  0.42857143],\n",
       "       [ 0.35      ,  0.        ,  1.        , -0.01666667],\n",
       "       [ 0.21546961,  0.99447514,  0.        ,  1.        ]])"
      ]
     },
     "execution_count": 8,
     "metadata": {},
     "output_type": "execute_result"
    }
   ],
   "source": [
    "fixRowThree(A)"
   ]
  },
  {
   "cell_type": "code",
   "execution_count": null,
   "metadata": {},
   "outputs": [],
   "source": []
  }
 ],
 "metadata": {
  "kernelspec": {
   "display_name": "Python 3",
   "language": "python",
   "name": "python3"
  },
  "language_info": {
   "codemirror_mode": {
    "name": "ipython",
    "version": 3
   },
   "file_extension": ".py",
   "mimetype": "text/x-python",
   "name": "python",
   "nbconvert_exporter": "python",
   "pygments_lexer": "ipython3",
   "version": "3.7.7"
  }
 },
 "nbformat": 4,
 "nbformat_minor": 4
}
